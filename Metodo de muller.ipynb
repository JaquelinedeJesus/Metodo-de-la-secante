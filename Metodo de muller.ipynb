{
  "nbformat": 4,
  "nbformat_minor": 0,
  "metadata": {
    "colab": {
      "provenance": [],
      "toc_visible": true,
      "authorship_tag": "ABX9TyPKbpBWKbayN6XmTUF8N3OY",
      "include_colab_link": true
    },
    "kernelspec": {
      "name": "python3",
      "display_name": "Python 3"
    },
    "language_info": {
      "name": "python"
    }
  },
  "cells": [
    {
      "cell_type": "markdown",
      "metadata": {
        "id": "view-in-github",
        "colab_type": "text"
      },
      "source": [
        "<a href=\"https://colab.research.google.com/github/JaquelinedeJesus/Metodo-de-la-secante/blob/main/Metodo%20de%20muller.ipynb\" target=\"_parent\"><img src=\"https://colab.research.google.com/assets/colab-badge.svg\" alt=\"Open In Colab\"/></a>"
      ]
    },
    {
      "cell_type": "code",
      "execution_count": 17,
      "metadata": {
        "id": "3nk6zwL96JmS"
      },
      "outputs": [],
      "source": [
        "from numpy import sign\n",
        "from numpy.lib.scimath import sqrt\n",
        "\n",
        "def muller(f,x0,x1,x2,tol):\n",
        "    error = le3;\n",
        "    x3 = 0;\n",
        "    while error > tol:\n",
        "        c = f(x2);\n",
        "        b = ((x0-x2)**2*(f(x1)-f(x2))-(x1-x2)**2*(f(x0)-f(x2)))/((x0-x2)*(x1-x2)*(x0-x1))\n",
        "        a = ((x0-x2)*(f(x0)-f(x2))-(x0-x2)*(f(x1)-f(x2)))/((x0-x2)*(x1-x2)*(x0-x1))\n",
        "        x3 = x2-(2*c)/(b+sign(b)*sqrt(b**2-4*a*c));\n",
        "        error = abs(x3-x2);\n",
        "        x0 = x1; x1 = x2; x2 = x3;\n",
        "    return x3\n",
        "\n"
      ]
    }
  ]
}